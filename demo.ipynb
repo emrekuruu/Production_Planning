{
 "cells": [
  {
   "cell_type": "code",
   "execution_count": null,
   "metadata": {},
   "outputs": [],
   "source": [
    "import gurobipy as gp\n",
    "from gurobipy import Model, GRB, quicksum\n",
    "import random\n",
    "import matplotlib.pyplot as plt\n",
    "import numpy as np\n",
    "import seaborn as sns\n",
    "from matplotlib.colors import ListedColormap"
   ]
  },
  {
   "cell_type": "markdown",
   "metadata": {},
   "source": [
    "### You need to get your own license file from Gurobi's website ! It is for single machine use only ! "
   ]
  },
  {
   "cell_type": "code",
   "execution_count": null,
   "metadata": {},
   "outputs": [],
   "source": [
    "import os\n",
    "import gurobipy as gp\n",
    "\n",
    "# Set the GRB_LICENSE_FILE environment variable to the correct license file path\n",
    "os.environ[\"GRB_LICENSE_FILE\"] = \"/Users/emrekuru/Developer/Production_Planning/gurobi.lic\""
   ]
  },
  {
   "cell_type": "code",
   "execution_count": null,
   "metadata": {},
   "outputs": [],
   "source": [
    "model = gp.Model(\"PaintingProcessOptimization\")"
   ]
  },
  {
   "cell_type": "code",
   "execution_count": null,
   "metadata": {},
   "outputs": [],
   "source": [
    "# Parameters\n",
    "num_parts = 60     # Number of parts\n",
    "demand = {p: 4 for p in range(1, num_parts + 1)}  \n",
    "\n",
    "\n",
    "parts_colors = {}\n",
    "colors = ['Red', 'Blue', 'Green', 'Yellow', 'Black', 'Purple', 'Orange']\n",
    "for p in range(1, num_parts + 1):\n",
    "    parts_colors[p] = random.choice(colors)\n",
    "\n",
    "color_cost = {\n",
    "    'Red': 5,\n",
    "    'Blue': 6,\n",
    "    'Green': 7,\n",
    "    'Yellow': 8,\n",
    "    'Black': 9,\n",
    "    'Purple': 10,\n",
    "    'Orange': 11\n",
    "}\n",
    "\n",
    "unit_production_time = {p: 1 for p in range(1, num_parts + 1)}  "
   ]
  },
  {
   "cell_type": "code",
   "execution_count": null,
   "metadata": {},
   "outputs": [],
   "source": [
    "# Define continuous variables for start and end times of production for each part\n",
    "start_times = model.addVars(range(1, num_parts + 1), vtype=GRB.CONTINUOUS, name=\"start_times\")\n",
    "end_times = model.addVars(range(1, num_parts + 1), vtype=GRB.CONTINUOUS, name=\"end_times\")\n",
    "\n",
    "# Define binary variable to indicate order of parts\n",
    "order = model.addVars(range(1, num_parts + 1), range(1, num_parts + 1), vtype=GRB.BINARY, name=\"order\")\n",
    "succesor = model.addVars(range(1, num_parts + 1), range(1, num_parts + 1), vtype=GRB.BINARY, name=\"succesor\")\n",
    "color_change = model.addVars(range(1, num_parts + 1), range(1, num_parts + 1), vtype=GRB.BINARY, name=\"color_change\")"
   ]
  },
  {
   "cell_type": "code",
   "execution_count": null,
   "metadata": {},
   "outputs": [],
   "source": [
    "model.setObjective(\n",
    "    quicksum(\n",
    "        color_cost[parts_colors[p]] * color_change[p, q] for p in range(1, num_parts + 1) for q in range(1, num_parts + 1)\n",
    "    ),\n",
    "    GRB.MINIMIZE\n",
    ")"
   ]
  },
  {
   "cell_type": "code",
   "execution_count": null,
   "metadata": {},
   "outputs": [],
   "source": [
    "for p in range(1, num_parts + 1):\n",
    "    for p_prime in range(1, num_parts + 1):\n",
    "        if p != p_prime:\n",
    "            order[p, p_prime].vtype = GRB.BINARY\n",
    "            \n",
    "# Ensure each part has at most one immediate successor, with exactly one part having no successor (the end part)\n",
    "for p in range(1, num_parts + 1):\n",
    "    model.addConstr(\n",
    "        quicksum(succesor[p, q] for q in range(1, num_parts + 1) if q != p) <= 1,\n",
    "        name=f\"Single_Successor_{p}\"\n",
    "    )\n",
    "\n",
    "# Ensure each part has at most one immediate predecessor, with exactly one part having no predecessor (the start part)\n",
    "for q in range(1, num_parts + 1):\n",
    "    model.addConstr(\n",
    "        quicksum(succesor[p, q] for p in range(1, num_parts + 1) if p != q) <= 1,\n",
    "        name=f\"Single_Predecessor_{q}\"\n",
    "    )\n",
    "\n",
    "# Ensure that there is exactly one part without a successor (the end part)\n",
    "model.addConstr(\n",
    "    quicksum(quicksum(succesor[p, q] for q in range(1, num_parts + 1) if q != p) for p in range(1, num_parts + 1)) == num_parts - 1,\n",
    "    name=\"Total_Successors\"\n",
    ")\n",
    "\n",
    "\n",
    "# Ensure mutual exclusivity in ordering between each pair of parts\n",
    "for p in range(1, num_parts + 1):\n",
    "    for p_prime in range(1, num_parts + 1):\n",
    "        if p != p_prime:\n",
    "            model.addConstr(\n",
    "                order[p, p_prime] + order[p_prime, p] == 1,\n",
    "                name=f\"Order_Binary_{p}_{p_prime}\"\n",
    "            )\n",
    "\n",
    "# Link the immediate successor relationship to the order variable\n",
    "# If part p is the immediate successor of part p_prime, then p_prime should come before p in the order\n",
    "for p in range(1, num_parts + 1):\n",
    "    for p_prime in range(1, num_parts + 1):\n",
    "        if p != p_prime:\n",
    "            model.addConstr(\n",
    "                order[p_prime, p] >= succesor[p, p_prime],\n",
    "                name=f\"Order_Successor_Link_{p_prime}_{p}\"\n",
    "            )\n",
    "\n",
    "# Ensure color change costs are applied when there is a change in color between successive parts\n",
    "for p in range(1, num_parts + 1):\n",
    "    for p_prime in range(1, num_parts + 1):\n",
    "        if p != p_prime and parts_colors[p] != parts_colors[p_prime]:\n",
    "            model.addConstr(\n",
    "                color_change[p, p_prime] >= succesor[p, p_prime],\n",
    "                name=f\"Color_Change_{p}_{p_prime}\"\n",
    "            )\n",
    "\n",
    "# Demand fulfillment constraints to ensure each part meets its demand\n",
    "for p in range(1, num_parts + 1):\n",
    "    model.addConstr(\n",
    "        (end_times[p] - start_times[p]) * unit_production_time[p] >= demand[p],\n",
    "        name=f\"Demand_Fulfillment_{p}\"\n",
    "    )\n",
    "\n",
    "# No overlap constraints based on the order of parts\n",
    "# If part p is ordered before part p_prime, then end_times[p] <= start_times[p_prime]\n",
    "for p in range(1, num_parts + 1):\n",
    "    for p_prime in range(1, num_parts + 1):\n",
    "        if p != p_prime:\n",
    "            model.addConstr(\n",
    "                end_times[p] <= start_times[p_prime] + (1 - order[p, p_prime]) * 1e6,\n",
    "                name=f\"No_Overlap_{p}_{p_prime}\"\n",
    "            )\n"
   ]
  },
  {
   "cell_type": "code",
   "execution_count": null,
   "metadata": {},
   "outputs": [
    {
     "name": "stdout",
     "output_type": "stream",
     "text": [
      "  7232  6703   13.00008  259   56          -    0.00000      -  81.8   10s\n",
      "  7288  6732    0.00000   18  278          -    0.00000      -  11.4   15s\n",
      "  8400  7403   21.00012   80  217          -    0.00000      -  29.5   20s\n",
      " 10858  8695   49.00000  211  227          -    0.00000      -  40.5   25s\n",
      " 14126 10286   38.00038  471  284          -    0.00000      -  47.7   30s\n",
      " 16618 11228    0.00013   67  330          -    0.00000      -  50.8   35s\n",
      " 19628 12811    0.00046  364  305          -    0.00000      -  52.7   40s\n",
      " 22693 14772   51.00000  581  374          -    0.00000      -  50.4   45s\n",
      " 25568 16579   75.00000  888  270          -    0.00000      -  48.1   50s\n",
      " 28539 18282  108.00000 1242  331          -    0.00000      -  46.2   56s\n",
      " 29266 19104  108.00000 1325  276          -    0.00000      -  46.0   67s\n",
      " 31296 20972    0.00014  223  345          -    0.00000      -  44.9   70s\n",
      " 34333 24226 infeasible  516               -    0.00000      -  42.8   76s\n",
      " 38808 27958   68.00007 1328  304          -    0.00000      -  40.0   80s\n",
      " 41929 30213    0.00028  232  320          -    0.00000      -  38.0   85s\n",
      " 43756 33201    0.00031  409  286          -    0.00000      -  36.9   90s\n",
      " 47894 36409   19.00018  733  276          -    0.00000      -  34.7   95s\n",
      " 51150 40023   27.00020 1067  274          -    0.00000      -  33.5  100s\n",
      " 54665 43015   40.00013 1323  257          -    0.00000      -  32.7  105s\n",
      " 57215 45153   67.00000 1440  320          -    0.00000      -  32.5  110s\n",
      " 61139 48745    0.00047  304  348          -    0.00000      -  31.8  116s\n",
      " 62931 50978    5.00050  508  360          -    0.00000      -  31.2  121s\n",
      " 65354 53357   88.00013  723  329          -    0.00000      -  31.0  125s\n",
      " 68730 56211   26.00014  324  347          -    0.00000      -  30.3  130s\n",
      " 72399 60029   35.00013  635  261          -    0.00000      -  29.7  135s\n",
      " 76261 62936   35.00024  980  242          -    0.00000      -  28.8  140s\n",
      " 79294 65991   55.00018 1380  259          -    0.00000      -  28.5  145s\n",
      " 80576 67111 infeasible 1449               -    0.00000      -  28.4  150s\n",
      " 85157 71588    0.00026  281  277          -    0.00000      -  28.3  156s\n",
      " 89392 74924   25.00012  522  290          -    0.00000      -  27.7  161s\n",
      " 92090 77550    0.00036  212  298          -    0.00000      -  27.2  165s\n",
      " 95613 81077   20.00016  553  342          -    0.00000      -  27.0  171s\n",
      " 98185 83248   20.00028  798  338          -    0.00000      -  26.8  175s\n",
      " 101152 85909   28.00026 1164  299          -    0.00000      -  26.6  180s\n",
      " 105073 89800   72.00024 1430  332          -    0.00000      -  26.0  186s\n"
     ]
    }
   ],
   "source": [
    "# Set model parameters if necessary, e.g., setting the feasibility tolerance\n",
    "model.setParam(\"IntFeasTol\", 1e-9)\n",
    "\n",
    "# Optimize the model\n",
    "model.optimize()"
   ]
  },
  {
   "cell_type": "code",
   "execution_count": null,
   "metadata": {},
   "outputs": [],
   "source": [
    "# Check if the model is infeasible\n",
    "if model.status == GRB.INFEASIBLE:\n",
    "    print(\"Model is infeasible. Computing IIS...\")\n",
    "    model.computeIIS()\n",
    "    model.write(\"model.ilp\")\n",
    "    \n",
    "    # Print the constraints that are part of the IIS\n",
    "    print(\"\\nThe following constraints are part of the IIS:\")\n",
    "    for c in model.getConstrs():\n",
    "        if c.IISConstr:\n",
    "            print(f\"{c.constrName}\")"
   ]
  },
  {
   "cell_type": "code",
   "execution_count": null,
   "metadata": {},
   "outputs": [],
   "source": [
    "start_times"
   ]
  },
  {
   "cell_type": "code",
   "execution_count": null,
   "metadata": {},
   "outputs": [],
   "source": [
    "end_times"
   ]
  },
  {
   "cell_type": "code",
   "execution_count": null,
   "metadata": {},
   "outputs": [],
   "source": [
    "order"
   ]
  },
  {
   "cell_type": "code",
   "execution_count": null,
   "metadata": {},
   "outputs": [],
   "source": [
    "succesor"
   ]
  },
  {
   "cell_type": "code",
   "execution_count": null,
   "metadata": {},
   "outputs": [],
   "source": [
    "color_change"
   ]
  },
  {
   "cell_type": "code",
   "execution_count": null,
   "metadata": {},
   "outputs": [],
   "source": [
    "if model.status == GRB.OPTIMAL:\n",
    "    print(\"Optimal solution found:\")\n",
    "    \n",
    "    # Extract start and end times for each part\n",
    "    start_times_values = [start_times[p].X for p in range(1, num_parts + 1)]\n",
    "    end_times_values = [end_times[p].X for p in range(1, num_parts + 1)]\n",
    "    \n",
    "    # Plotting the Gantt chart\n",
    "    plt.figure(figsize=(20, 6))\n",
    "    \n",
    "    # Define color mapping for the parts\n",
    "    color_map = {\n",
    "        'Red': 'red',\n",
    "        'Blue': 'blue',\n",
    "        'Green': 'green',\n",
    "        'Yellow': 'yellow',\n",
    "        'Black': 'black'\n",
    "    }\n",
    "\n",
    "    for p in range(1, num_parts + 1):\n",
    "        plt.barh(p, end_times_values[p-1] - start_times_values[p-1], left=start_times_values[p-1],\n",
    "                 color=color_map[parts_colors[p]], edgecolor='black', label=parts_colors[p] if p == 1 else \"\")\n",
    "\n",
    "    plt.title(\"Optimal Production Schedule\", fontsize=16)\n",
    "    plt.xlabel(\"Time\", fontsize=14)\n",
    "    plt.ylabel(\"Parts\", fontsize=14)\n",
    "    plt.xticks(np.arange(0, max(end_times_values) + 1, 1))  # Set x-ticks according to time\n",
    "    plt.yticks(range(1, num_parts + 1), fontsize=12)  # Set y-ticks for parts\n",
    "    plt.grid(axis='x', linestyle='--', alpha=0.7)  # Optional grid for better visibility\n",
    "    plt.xlim(0, max(end_times_values) + 1)  # Set x-axis limits to provide some padding\n",
    "    plt.tight_layout()  # Adjust layout to prevent clipping of labels\n",
    "\n",
    "    plt.show()\n",
    "    \n",
    "    # Display objective function result\n",
    "    minimized_cost = model.ObjVal\n",
    "    print(f\"Minimized Total Cost (Objective Value): {minimized_cost}\")\n",
    "\n",
    "else:\n",
    "    print(\"No optimal solution found.\")"
   ]
  }
 ],
 "metadata": {
  "kernelspec": {
   "display_name": "Python 3",
   "language": "python",
   "name": "python3"
  },
  "language_info": {
   "codemirror_mode": {
    "name": "ipython",
    "version": 3
   },
   "file_extension": ".py",
   "mimetype": "text/x-python",
   "name": "python",
   "nbconvert_exporter": "python",
   "pygments_lexer": "ipython3",
   "version": "3.11.5"
  }
 },
 "nbformat": 4,
 "nbformat_minor": 2
}
