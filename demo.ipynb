{
 "cells": [
  {
   "cell_type": "code",
   "execution_count": 1,
   "metadata": {},
   "outputs": [],
   "source": [
    "import gurobipy as gp\n",
    "from gurobipy import Model, GRB, quicksum\n",
    "import random\n",
    "import matplotlib.pyplot as plt\n",
    "import numpy as np\n",
    "import seaborn as sns\n",
    "from matplotlib.colors import ListedColormap"
   ]
  },
  {
   "cell_type": "markdown",
   "metadata": {},
   "source": [
    "### You need to get your own license file from Gurobi's website ! It is for single machine use only ! "
   ]
  },
  {
   "cell_type": "code",
   "execution_count": 2,
   "metadata": {},
   "outputs": [],
   "source": [
    "import os\n",
    "import gurobipy as gp\n",
    "\n",
    "# Set the GRB_LICENSE_FILE environment variable to the correct license file path\n",
    "os.environ[\"GRB_LICENSE_FILE\"] = \"/Users/emrekuru/Developer/Production_Planning/gurobi.lic\""
   ]
  },
  {
   "cell_type": "code",
   "execution_count": 3,
   "metadata": {},
   "outputs": [
    {
     "name": "stdout",
     "output_type": "stream",
     "text": [
      "Set parameter Username\n",
      "Academic license - for non-commercial use only - expires 2025-11-11\n"
     ]
    }
   ],
   "source": [
    "model = gp.Model(\"PaintingProcessOptimization\")"
   ]
  },
  {
   "cell_type": "code",
   "execution_count": 4,
   "metadata": {},
   "outputs": [],
   "source": [
    "# Parameters\n",
    "num_parts = 10     # Number of parts\n",
    "demand = {p: 1 for p in range(1, num_parts + 1)}  \n",
    "\n",
    "parts_colors = {\n",
    "    1: 'Red',\n",
    "    2: 'Blue',\n",
    "    3: 'Green',\n",
    "    4: 'Yellow',\n",
    "    5: 'Black',\n",
    "    6: 'Red',\n",
    "    7: 'Blue',\n",
    "    8: 'Green',\n",
    "    9: 'Yellow',\n",
    "    10: 'Black'\n",
    "}\n",
    "\n",
    "color_cost = {\n",
    "    'Red': 10,\n",
    "    'Blue': 10,\n",
    "    'Green': 10,\n",
    "    'Yellow': 10,\n",
    "    'Black': 10\n",
    "}\n",
    "\n",
    "unit_production_time = {\n",
    "    1: 1,   \n",
    "    2: 1,   \n",
    "    3: 1,   \n",
    "    4: 1,   \n",
    "    5: 1,   \n",
    "    6: 1,   \n",
    "    7: 1,   \n",
    "    8: 1,   \n",
    "    9: 1,\n",
    "    10: 1\n",
    "}\n",
    "\n",
    "unit_production_time = {p: 2 for p in range(1, num_parts + 1)}  "
   ]
  },
  {
   "cell_type": "code",
   "execution_count": 5,
   "metadata": {},
   "outputs": [
    {
     "data": {
      "text/plain": [
       "{1: 'Red',\n",
       " 2: 'Blue',\n",
       " 3: 'Green',\n",
       " 4: 'Yellow',\n",
       " 5: 'Black',\n",
       " 6: 'Red',\n",
       " 7: 'Blue',\n",
       " 8: 'Green',\n",
       " 9: 'Yellow',\n",
       " 10: 'Black'}"
      ]
     },
     "execution_count": 5,
     "metadata": {},
     "output_type": "execute_result"
    }
   ],
   "source": [
    "parts_colors"
   ]
  },
  {
   "cell_type": "code",
   "execution_count": 6,
   "metadata": {},
   "outputs": [],
   "source": [
    "machines = [1,2]\n",
    "# Define continuous variables for start and end times of production for each part\n",
    "start_times = model.addVars(range(1, num_parts + 1), vtype=GRB.CONTINUOUS, name=\"start_times\")\n",
    "end_times = model.addVars(range(1, num_parts + 1), vtype=GRB.CONTINUOUS, name=\"end_times\")\n",
    "\n",
    "# Define binary variable to indicate the order of parts on each machine\n",
    "# order[p, p_prime, m] = 1 if part p is scheduled before part p_prime on machine m\n",
    "order = model.addVars(range(1, num_parts + 1), range(1, num_parts + 1), machines, vtype=GRB.BINARY, name=\"order\")\n",
    "\n",
    "# Define binary variable to indicate successor relationship for each machine\n",
    "# successor[p, p_prime, m] = 1 if part p is the immediate predecessor of part p_prime on machine m\n",
    "successor = model.addVars(range(1, num_parts + 1), range(1, num_parts + 1), machines, vtype=GRB.BINARY, name=\"successor\")\n",
    "\n",
    "# Define binary variable for color change costs on each machine\n",
    "# color_change[p, p_prime, m] = 1 if there is a color change between part p and part p_prime on machine m\n",
    "color_change = model.addVars(range(1, num_parts + 1), range(1, num_parts + 1), machines, vtype=GRB.BINARY, name=\"color_change\")\n",
    "\n",
    "# Define binary variables for machine assignments: machine_assignment[p, m] = 1 if part p is assigned to machine m\n",
    "machine_assignment = model.addVars(range(1, num_parts + 1), machines, vtype=GRB.BINARY, name=\"machine_assignment\")"
   ]
  },
  {
   "cell_type": "code",
   "execution_count": 7,
   "metadata": {},
   "outputs": [],
   "source": [
    "model.setObjective(\n",
    "    quicksum(\n",
    "        color_cost[parts_colors[p]] * color_change[p, q, m]\n",
    "        for p in range(1, num_parts + 1)\n",
    "        for q in range(1, num_parts + 1)\n",
    "        for m in machines\n",
    "    ),\n",
    "    GRB.MINIMIZE\n",
    ")\n"
   ]
  },
  {
   "cell_type": "code",
   "execution_count": 8,
   "metadata": {},
   "outputs": [
    {
     "data": {
      "text/plain": [
       "<gurobi.Constr *Awaiting Model Update*>"
      ]
     },
     "execution_count": 8,
     "metadata": {},
     "output_type": "execute_result"
    }
   ],
   "source": [
    "big_M = 1e6\n",
    "\n",
    "# Ensure each part has at most one immediate successor, with exactly one part having no successor (the end part) per machine\n",
    "for p in range(1, num_parts + 1):\n",
    "    for m in machines:\n",
    "        model.addConstr(\n",
    "            quicksum(successor[p, q, m] for q in range(1, num_parts + 1) if q != p) <= machine_assignment[p, m],\n",
    "            name=f\"Single_Successor_{p}_Machine_{m}\"\n",
    "        )\n",
    "\n",
    "# Ensure each part has at most one immediate predecessor, with exactly one part having no predecessor (the start part) per machine\n",
    "for q in range(1, num_parts + 1):\n",
    "    for m in machines:\n",
    "        model.addConstr(\n",
    "            quicksum(successor[p, q, m] for p in range(1, num_parts + 1) if p != q) <= machine_assignment[q, m],\n",
    "            name=f\"Single_Predecessor_{q}_Machine_{m}\"\n",
    "        )\n",
    "\n",
    "# Ensure exactly one part without a successor (the end part) per machine\n",
    "for m in machines:\n",
    "    model.addConstr(\n",
    "        quicksum(quicksum(successor[p, q, m] for q in range(1, num_parts + 1) if q != p) for p in range(1, num_parts + 1)) \n",
    "        == quicksum(machine_assignment[p, m] for p in range(1, num_parts + 1)) - 1,\n",
    "        name=f\"Total_Successors_Machine_{m}\"\n",
    "    )\n",
    "\n",
    "# Ensure mutual exclusivity in ordering between each pair of parts on the same machine\n",
    "for p in range(1, num_parts + 1):\n",
    "    for p_prime in range(1, num_parts + 1):\n",
    "        if p != p_prime:\n",
    "            for m in machines:\n",
    "                model.addConstr(\n",
    "                    order[p, p_prime, m] + order[p_prime, p, m] == machine_assignment[p, m] * machine_assignment[p_prime, m],\n",
    "                    name=f\"Order_Binary_{p}_{p_prime}_Machine_{m}\"\n",
    "                )\n",
    "\n",
    "# Link the immediate successor relationship to the order variable for parts on the same machine\n",
    "for p in range(1, num_parts + 1):\n",
    "    for p_prime in range(1, num_parts + 1):\n",
    "        if p != p_prime:\n",
    "            for m in machines:\n",
    "                model.addConstr(\n",
    "                    order[p_prime, p, m] >= successor[p, p_prime, m],\n",
    "                    name=f\"Order_Successor_Link_{p_prime}_{p}_Machine_{m}\"\n",
    "                )\n",
    "\n",
    "# Ensure color change costs are applied when there is a change in color between successive parts on the same machine\n",
    "for p in range(1, num_parts + 1):\n",
    "    for p_prime in range(1, num_parts + 1):\n",
    "        if p != p_prime and parts_colors[p] != parts_colors[p_prime]:\n",
    "            for m in machines:\n",
    "                model.addConstr(\n",
    "                    color_change[p_prime, p, m] >= successor[p, p_prime, m],\n",
    "                    name=f\"Color_Change_{p}_{p_prime}_Machine_{m}\"\n",
    "                )\n",
    "\n",
    "# Demand fulfillment constraints to ensure each part meets its demand\n",
    "for p in range(1, num_parts + 1):\n",
    "    model.addConstr(\n",
    "        (end_times[p] - start_times[p]) * unit_production_time[p] >= demand[p],\n",
    "        name=f\"Demand_Fulfillment_{p}\"\n",
    "    )\n",
    "\n",
    "# Ensure each part is assigned to exactly one machine\n",
    "for p in range(1, num_parts + 1):\n",
    "    model.addConstr(\n",
    "        quicksum(machine_assignment[p, m] for m in machines) == 1,\n",
    "        name=f\"Machine_Assignment_{p}\"\n",
    "    )\n",
    "\n",
    "# Non-overlap constraint for parts on the same machine using big-M\n",
    "for p in range(1, num_parts + 1):\n",
    "    for p_prime in range(1, num_parts + 1):\n",
    "        if p != p_prime:\n",
    "            for m in machines:\n",
    "                model.addConstr(\n",
    "                    end_times[p] <= start_times[p_prime] + big_M * (1 - order[p, p_prime, m]),\n",
    "                    name=f\"No_Overlap_Same_Machine_{p}_{p_prime}_Machine_{m}\"\n",
    "                )\n",
    "\n",
    "\n",
    "\n",
    "# Define the tolerance level for load balancing\n",
    "load_balance_tolerance = 5  # Adjust as needed\n",
    "\n",
    "# Calculate total load for each machine\n",
    "total_load_machine_1 = quicksum((end_times[p] - start_times[p]) * machine_assignment[p, 1] for p in range(1, num_parts + 1))\n",
    "total_load_machine_2 = quicksum((end_times[p] - start_times[p]) * machine_assignment[p, 2] for p in range(1, num_parts + 1))\n",
    "\n",
    "# Define a slack variable to represent the absolute difference in load\n",
    "load_diff = model.addVar(vtype=GRB.CONTINUOUS, name=\"load_diff\")\n",
    "\n",
    "# Add constraints to define load_diff as the absolute difference between the two loads\n",
    "model.addConstr(total_load_machine_1 - total_load_machine_2 <= load_diff, name=\"Load_Diff_Positive\")\n",
    "model.addConstr(total_load_machine_2 - total_load_machine_1 <= load_diff, name=\"Load_Diff_Negative\")\n",
    "\n",
    "# Enforce the load balancing constraint within the specified tolerance\n",
    "model.addConstr(load_diff <= load_balance_tolerance, name=\"Load_Balance_Constraint\")\n"
   ]
  },
  {
   "cell_type": "code",
   "execution_count": 9,
   "metadata": {},
   "outputs": [
    {
     "name": "stdout",
     "output_type": "stream",
     "text": [
      "Set parameter IntFeasTol to value 1e-09\n",
      "Set parameter Threads to value 16\n",
      "Set parameter MIPGap to value 0.05\n",
      "Gurobi Optimizer version 11.0.3 build v11.0.3rc0 (mac64[arm] - Darwin 24.1.0 24B83)\n",
      "\n",
      "CPU model: Apple M2\n",
      "Thread count: 8 physical cores, 8 logical processors, using up to 16 threads\n",
      "\n",
      "Warning: Thread count (16) is larger than processor count (8)\n",
      "         Reduce the value of the Threads parameter to improve performance\n",
      "\n",
      "\n",
      "Optimize a model with 583 rows, 641 columns and 1861 nonzeros\n",
      "Model fingerprint: 0xdb3cff17\n",
      "Model has 182 quadratic constraints\n",
      "Variable types: 21 continuous, 620 integer (620 binary)\n",
      "Coefficient statistics:\n",
      "  Matrix range     [1e+00, 1e+06]\n",
      "  QMatrix range    [1e+00, 1e+00]\n",
      "  QLMatrix range   [1e+00, 1e+00]\n",
      "  Objective range  [1e+01, 1e+01]\n",
      "  Bounds range     [1e+00, 1e+00]\n",
      "  RHS range        [1e+00, 1e+06]\n",
      "Presolve removed 4 rows and 250 columns\n",
      "Presolve time: 0.01s\n",
      "Presolved: 737 rows, 480 columns, 2599 nonzeros\n",
      "Presolved model has 40 SOS constraint(s)\n",
      "Variable types: 60 continuous, 420 integer (419 binary)\n",
      "\n",
      "Root relaxation: objective 3.000000e+01, 375 iterations, 0.00 seconds (0.00 work units)\n",
      "\n",
      "    Nodes    |    Current Node    |     Objective Bounds      |     Work\n",
      " Expl Unexpl |  Obj  Depth IntInf | Incumbent    BestBd   Gap | It/Node Time\n",
      "\n",
      "     0     0   30.00000    0   11          -   30.00000      -     -    0s\n",
      "H    0     0                      30.0000000   30.00000  0.00%     -    0s\n",
      "\n",
      "Explored 1 nodes (815 simplex iterations) in 0.06 seconds (0.05 work units)\n",
      "Thread count was 16 (of 8 available processors)\n",
      "\n",
      "Solution count 1: 30 \n",
      "\n",
      "Optimal solution found (tolerance 5.00e-02)\n",
      "Best objective 3.000000000000e+01, best bound 3.000000000000e+01, gap 0.0000%\n"
     ]
    }
   ],
   "source": [
    "# Set model parameters if necessary, e.g., setting the feasibility tolerance\n",
    "model.setParam(\"IntFeasTol\", 1e-9)\n",
    "model.setParam(\"Threads\", 16) \n",
    "\n",
    "# Optional: Currently going for the optimal solution\n",
    "model.setParam(\"MIPGap\", 0.05)       # Accept a solution within 1% of optimal\n",
    "\n",
    "# Optimize the model\n",
    "model.optimize()"
   ]
  },
  {
   "cell_type": "code",
   "execution_count": 10,
   "metadata": {},
   "outputs": [],
   "source": [
    "# Check if the model is infeasible\n",
    "if model.status == GRB.INFEASIBLE:\n",
    "    print(\"Model is infeasible. Computing IIS...\")\n",
    "    model.computeIIS()\n",
    "    model.write(\"model.ilp\")\n",
    "    \n",
    "    # Print the constraints that are part of the IIS\n",
    "    print(\"\\nThe following constraints are part of the IIS:\")\n",
    "    for c in model.getConstrs():\n",
    "        if c.IISConstr:\n",
    "            print(f\"{c.constrName}\")"
   ]
  },
  {
   "cell_type": "code",
   "execution_count": 11,
   "metadata": {},
   "outputs": [
    {
     "name": "stdout",
     "output_type": "stream",
     "text": [
      "Optimal solution found:\n",
      "Minimized Total Cost (Objective Value): 30.0\n"
     ]
    },
    {
     "data": {
      "image/png": "[encoded data removed]",
      "text/plain": [
       "<Figure size 2200x1200 with 2 Axes>"
      ]
     },
     "metadata": {},
     "output_type": "display_data"
    }
   ],
   "source": [
    "if model.status == GRB.OPTIMAL:\n",
    "    print(\"Optimal solution found:\")\n",
    "\n",
    "    # Extract start and end times for each part assigned to each machine\n",
    "    start_times_values = {p: start_times[p].X for p in range(1, num_parts + 1)}\n",
    "    end_times_values = {p: end_times[p].X for p in range(1, num_parts + 1)}\n",
    "\n",
    "    # Plotting the Gantt chart with two subplots for Machine 1 and Machine 2\n",
    "    fig, axs = plt.subplots(2, 1, figsize=(22, 12), sharex=True)\n",
    "    \n",
    "    # Define color mapping for the parts\n",
    "    color_map = {\n",
    "        'Red': 'red',\n",
    "        'Blue': 'blue',\n",
    "        'Green': 'green',\n",
    "        'Yellow': 'yellow',\n",
    "        'Black': 'black',\n",
    "        'Purple': 'purple',\n",
    "        'Orange': 'orange'\n",
    "    }\n",
    "\n",
    "    # Iterate through parts to plot on the appropriate machine's subplot\n",
    "    for m in machines:\n",
    "        ax = axs[m - 1]  # Subplot for each machine (Machine 1 and Machine 2)\n",
    "        for p in range(1, num_parts + 1):\n",
    "            # Check if part p is assigned to machine m\n",
    "            if machine_assignment[p, m].X > 0.5:  # Assigned to machine m\n",
    "                part_color = color_map[parts_colors[p]]\n",
    "                # Plot part p on machine m's subplot\n",
    "                ax.barh(p, end_times_values[p] - start_times_values[p], \n",
    "                        left=start_times_values[p], color=part_color,\n",
    "                        edgecolor='black', label=parts_colors[p] if p == 1 else \"\")\n",
    "                \n",
    "        # Customize each subplot\n",
    "        ax.set_title(f\"Machine {m} Schedule\", fontsize=16)\n",
    "        ax.set_ylabel(\"Parts\", fontsize=14)\n",
    "        ax.set_yticks(range(1, num_parts + 1))\n",
    "        ax.grid(axis='x', linestyle='--', alpha=0.7)\n",
    "    \n",
    "    # Set common labels\n",
    "    plt.xlabel(\"Time\", fontsize=14)\n",
    "    plt.xticks(np.arange(0, max(end_times_values.values()) + 1, 2))  # Adjust x-tick intervals for time\n",
    "    fig.suptitle(\"Optimal Production Schedule for Two Machines\", fontsize=18)\n",
    "    plt.tight_layout(rect=[0, 0.03, 1, 0.95])  # Adjust layout for title space\n",
    "\n",
    "    # Save the plot as an image file\n",
    "    plt.savefig(\"optimal_production_schedule.png\")\n",
    "\n",
    "    # Display objective function result\n",
    "    minimized_cost = model.ObjVal\n",
    "    print(f\"Minimized Total Cost (Objective Value): {minimized_cost}\")\n",
    "\n",
    "else:\n",
    "    print(\"No optimal solution found.\")\n"
   ]
  }
 ],
 "metadata": {
  "kernelspec": {
   "display_name": "Python 3",
   "language": "python",
   "name": "python3"
  },
  "language_info": {
   "codemirror_mode": {
    "name": "ipython",
    "version": 3
   },
   "file_extension": ".py",
   "mimetype": "text/x-python",
   "name": "python",
   "nbconvert_exporter": "python",
   "pygments_lexer": "ipython3",
   "version": "3.11.5"
  }
 },
 "nbformat": 4,
 "nbformat_minor": 2
}
