{
 "cells": [
  {
   "cell_type": "code",
   "execution_count": 1,
   "metadata": {},
   "outputs": [],
   "source": [
    "import gurobipy as gp\n",
    "from gurobipy import Model, GRB, quicksum\n",
    "import random\n",
    "import matplotlib.pyplot as plt\n",
    "import numpy as np\n",
    "import seaborn as sns\n",
    "from matplotlib.colors import ListedColormap"
   ]
  },
  {
   "cell_type": "code",
   "execution_count": 2,
   "metadata": {},
   "outputs": [],
   "source": [
    "# Parameters\n",
    "num_parts = 6     # Number of parts\n",
    "demand = {p: 4 for p in range(1, num_parts + 1)}  \n",
    "\n",
    "parts_colors = {\n",
    "    1: 'Red',\n",
    "    2: 'Blue',\n",
    "    3: 'Green',\n",
    "    4: 'Yellow',\n",
    "    5: 'Black',\n",
    "    6: 'Red',\n",
    "}\n",
    "\n",
    "color_cost = {\n",
    "    'Red': 10,\n",
    "    'Blue': 10,\n",
    "    'Green': 10,\n",
    "    'Yellow': 10,\n",
    "    'Black': 10\n",
    "}\n",
    "\n",
    "color_mapping = {\n",
    "    'Red': 1,\n",
    "    'Blue': 2,\n",
    "    'Green': 3,\n",
    "    'Yellow': 4,\n",
    "    'Black': 5\n",
    "}\n",
    "\n",
    "unit_production_time = {\n",
    "    1: 2,   \n",
    "    2: 1,   \n",
    "    3: 1,   \n",
    "    4: 1,   \n",
    "    5: 1,   \n",
    "    6: 1,   \n",
    "}\n",
    "\n",
    "max_production_time = 30"
   ]
  },
  {
   "cell_type": "code",
   "execution_count": 3,
   "metadata": {},
   "outputs": [
    {
     "name": "stdout",
     "output_type": "stream",
     "text": [
      "Restricted license - for non-production use only - expires 2025-11-24\n"
     ]
    }
   ],
   "source": [
    "model = gp.Model(\"PaintingProcessOptimization\")"
   ]
  },
  {
   "cell_type": "code",
   "execution_count": 4,
   "metadata": {},
   "outputs": [],
   "source": [
    "# Define continuous variables for start and end times of production for each part\n",
    "start_times = model.addVars(range(1, num_parts + 1), vtype=GRB.CONTINUOUS, name=\"start_times\")\n",
    "end_times = model.addVars(range(1, num_parts + 1), vtype=GRB.CONTINUOUS, name=\"end_times\")\n",
    "\n",
    "# Define binary variable to indicate order of parts\n",
    "order = model.addVars(range(1, num_parts + 1), range(1, num_parts + 1), vtype=GRB.BINARY, name=\"order\")\n",
    "color_change = model.addVars(range(1, num_parts + 1), range(1, num_parts + 1), vtype=GRB.BINARY, name=\"color_change\")"
   ]
  },
  {
   "cell_type": "code",
   "execution_count": 5,
   "metadata": {},
   "outputs": [],
   "source": [
    "model.setObjective(\n",
    "    quicksum(\n",
    "        color_cost[parts_colors[p]] * color_change[p, q] for p in range(1, num_parts + 1) for q in range(1, num_parts + 1)\n",
    "    ),\n",
    "    GRB.MINIMIZE\n",
    ")"
   ]
  },
  {
   "cell_type": "code",
   "execution_count": 6,
   "metadata": {},
   "outputs": [],
   "source": [
    "# Ensure that if part p is ordered before part p', the order variable is set\n",
    "for p in range(1, num_parts + 1):\n",
    "    for p_prime in range(1, num_parts + 1):\n",
    "        if p != p_prime:\n",
    "            model.addConstr(order[p, p_prime] + order[p_prime, p] == 1, name=f\"Order_Binary_{p}_{p_prime}\")\n",
    "\n",
    "for p in range(1, num_parts + 1):\n",
    "    for p_prime in range(1, num_parts + 1):\n",
    "        if p != p_prime:\n",
    "\n",
    "            model.addConstr(\n",
    "                color_change [p, p_prime] >= order[p, p_prime],\n",
    "                name=f\"Color_Change_{p}_{p_prime}\"\n",
    "            )"
   ]
  },
  {
   "cell_type": "code",
   "execution_count": 7,
   "metadata": {},
   "outputs": [],
   "source": [
    "# Demand Fulfillment Constraints\n",
    "for p in range(1, num_parts + 1):\n",
    "    model.addConstr(\n",
    "        (end_times[p] - start_times[p] ) * unit_production_time[p] >= demand[p],\n",
    "        name=f\"Demand_Fulfillment_{p}\"\n",
    "    )\n",
    "\n",
    "# No Overlap Constraints\n",
    "for p in range(1, num_parts + 1):  # Current part\n",
    "    for p_prime in range(1, num_parts + 1):  # Next part\n",
    "        if p != p_prime:  # Only check different parts\n",
    "            \n",
    "            # No overlap constraint: If part p is ordered before part p_prime\n",
    "            model.addConstr(\n",
    "                end_times[p] <= start_times[p_prime] + (1 - order[p, p_prime]) * 1e6,\n",
    "                name=f\"No_Overlap_{p}_{p_prime}\"\n",
    "            )\n",
    "\n",
    "            # No overlap constraint: If part p_prime is ordered before part p\n",
    "            model.addConstr(\n",
    "                end_times[p_prime] <= start_times[p] + (1 - order[p_prime, p]) * 1e6,\n",
    "                name=f\"No_Overlap_Reverse_{p}_{p_prime}\"\n",
    "            )"
   ]
  },
  {
   "cell_type": "code",
   "execution_count": 8,
   "metadata": {},
   "outputs": [
    {
     "name": "stdout",
     "output_type": "stream",
     "text": [
      "Gurobi Optimizer version 11.0.3 build v11.0.3rc0 (mac64[arm] - Darwin 24.1.0 24B83)\n",
      "\n",
      "CPU model: Apple M2\n",
      "Thread count: 8 physical cores, 8 logical processors, using up to 8 threads\n",
      "\n",
      "Optimize a model with 126 rows, 84 columns and 312 nonzeros\n",
      "Model fingerprint: 0xc199ce48\n",
      "Variable types: 12 continuous, 72 integer (72 binary)\n",
      "Coefficient statistics:\n",
      "  Matrix range     [1e+00, 1e+06]\n",
      "  Objective range  [1e+01, 1e+01]\n",
      "  Bounds range     [1e+00, 1e+00]\n",
      "  RHS range        [1e+00, 1e+06]\n",
      "Found heuristic solution: objective 150.0000000\n",
      "Presolve removed 96 rows and 63 columns\n",
      "Presolve time: 0.00s\n",
      "Presolved: 30 rows, 21 columns, 90 nonzeros\n",
      "Variable types: 6 continuous, 15 integer (15 binary)\n",
      "\n",
      "Explored 0 nodes (0 simplex iterations) in 0.00 seconds (0.00 work units)\n",
      "Thread count was 8 (of 8 available processors)\n",
      "\n",
      "Solution count 1: 150 \n",
      "\n",
      "Optimal solution found (tolerance 1.00e-04)\n",
      "Best objective 1.500000000000e+02, best bound 1.500000000000e+02, gap 0.0000%\n"
     ]
    }
   ],
   "source": [
    "model.optimize()"
   ]
  },
  {
   "cell_type": "code",
   "execution_count": 9,
   "metadata": {},
   "outputs": [],
   "source": [
    "# Check if the model is infeasible\n",
    "if model.status == GRB.INFEASIBLE:\n",
    "    print(\"Model is infeasible. Computing IIS...\")\n",
    "    model.computeIIS()\n",
    "    model.write(\"model.ilp\")\n",
    "    \n",
    "    # Print the constraints that are part of the IIS\n",
    "    print(\"\\nThe following constraints are part of the IIS:\")\n",
    "    for c in model.getConstrs():\n",
    "        if c.IISConstr:\n",
    "            print(f\"{c.constrName}\")"
   ]
  },
  {
   "cell_type": "code",
   "execution_count": 10,
   "metadata": {},
   "outputs": [
    {
     "name": "stdout",
     "output_type": "stream",
     "text": [
      "Optimal solution found:\n"
     ]
    },
    {
     "data": {
      "image/png": "[encoded data removed]",
      "text/plain": [
       "<Figure size 2000x600 with 1 Axes>"
      ]
     },
     "metadata": {},
     "output_type": "display_data"
    },
    {
     "name": "stdout",
     "output_type": "stream",
     "text": [
      "Minimized Total Cost (Objective Value): 150.0\n"
     ]
    }
   ],
   "source": [
    "if model.status == GRB.OPTIMAL:\n",
    "    print(\"Optimal solution found:\")\n",
    "    \n",
    "    # Extract start and end times for each part\n",
    "    start_times_values = [start_times[p].X for p in range(1, num_parts + 1)]\n",
    "    end_times_values = [end_times[p].X for p in range(1, num_parts + 1)]\n",
    "    \n",
    "    # Plotting the Gantt chart\n",
    "    plt.figure(figsize=(20, 6))\n",
    "    \n",
    "    # Define color mapping for the parts\n",
    "    color_map = {\n",
    "        'Red': 'red',\n",
    "        'Blue': 'blue',\n",
    "        'Green': 'green',\n",
    "        'Yellow': 'yellow',\n",
    "        'Black': 'black'\n",
    "    }\n",
    "\n",
    "    for p in range(1, num_parts + 1):\n",
    "        plt.barh(p, end_times_values[p-1] - start_times_values[p-1], left=start_times_values[p-1],\n",
    "                 color=color_map[parts_colors[p]], edgecolor='black', label=parts_colors[p] if p == 1 else \"\")\n",
    "\n",
    "    plt.title(\"Optimal Production Schedule\", fontsize=16)\n",
    "    plt.xlabel(\"Time\", fontsize=14)\n",
    "    plt.ylabel(\"Parts\", fontsize=14)\n",
    "    plt.xticks(np.arange(0, max(end_times_values) + 1, 1))  # Set x-ticks according to time\n",
    "    plt.yticks(range(1, num_parts + 1), fontsize=12)  # Set y-ticks for parts\n",
    "    plt.grid(axis='x', linestyle='--', alpha=0.7)  # Optional grid for better visibility\n",
    "    plt.xlim(0, max(end_times_values) + 1)  # Set x-axis limits to provide some padding\n",
    "    plt.tight_layout()  # Adjust layout to prevent clipping of labels\n",
    "\n",
    "    plt.show()\n",
    "    \n",
    "    # Display objective function result\n",
    "    minimized_cost = model.ObjVal\n",
    "    print(f\"Minimized Total Cost (Objective Value): {minimized_cost}\")\n",
    "\n",
    "else:\n",
    "    print(\"No optimal solution found.\")"
   ]
  },
  {
   "cell_type": "code",
   "execution_count": 11,
   "metadata": {},
   "outputs": [
    {
     "data": {
      "text/plain": [
       "{1: <gurobi.Var start_times[1] (value 0.0)>,\n",
       " 2: <gurobi.Var start_times[2] (value 18.0)>,\n",
       " 3: <gurobi.Var start_times[3] (value 6.0)>,\n",
       " 4: <gurobi.Var start_times[4] (value 2.0)>,\n",
       " 5: <gurobi.Var start_times[5] (value 14.0)>,\n",
       " 6: <gurobi.Var start_times[6] (value 10.0)>}"
      ]
     },
     "execution_count": 11,
     "metadata": {},
     "output_type": "execute_result"
    }
   ],
   "source": [
    "start_times"
   ]
  },
  {
   "cell_type": "code",
   "execution_count": 12,
   "metadata": {},
   "outputs": [
    {
     "data": {
      "text/plain": [
       "{1: <gurobi.Var end_times[1] (value 2.0)>,\n",
       " 2: <gurobi.Var end_times[2] (value 22.0)>,\n",
       " 3: <gurobi.Var end_times[3] (value 10.0)>,\n",
       " 4: <gurobi.Var end_times[4] (value 6.0)>,\n",
       " 5: <gurobi.Var end_times[5] (value 18.0)>,\n",
       " 6: <gurobi.Var end_times[6] (value 14.0)>}"
      ]
     },
     "execution_count": 12,
     "metadata": {},
     "output_type": "execute_result"
    }
   ],
   "source": [
    "end_times"
   ]
  },
  {
   "cell_type": "code",
   "execution_count": 13,
   "metadata": {},
   "outputs": [
    {
     "data": {
      "text/plain": [
       "{(1, 1): <gurobi.Var order[1,1] (value 0.0)>,\n",
       " (1, 2): <gurobi.Var order[1,2] (value 1.0)>,\n",
       " (1, 3): <gurobi.Var order[1,3] (value 1.0)>,\n",
       " (1, 4): <gurobi.Var order[1,4] (value 1.0)>,\n",
       " (1, 5): <gurobi.Var order[1,5] (value 1.0)>,\n",
       " (1, 6): <gurobi.Var order[1,6] (value 1.0)>,\n",
       " (2, 1): <gurobi.Var order[2,1] (value 0.0)>,\n",
       " (2, 2): <gurobi.Var order[2,2] (value 0.0)>,\n",
       " (2, 3): <gurobi.Var order[2,3] (value 0.0)>,\n",
       " (2, 4): <gurobi.Var order[2,4] (value 0.0)>,\n",
       " (2, 5): <gurobi.Var order[2,5] (value 0.0)>,\n",
       " (2, 6): <gurobi.Var order[2,6] (value 0.0)>,\n",
       " (3, 1): <gurobi.Var order[3,1] (value 0.0)>,\n",
       " (3, 2): <gurobi.Var order[3,2] (value 1.0)>,\n",
       " (3, 3): <gurobi.Var order[3,3] (value 0.0)>,\n",
       " (3, 4): <gurobi.Var order[3,4] (value 0.0)>,\n",
       " (3, 5): <gurobi.Var order[3,5] (value 1.0)>,\n",
       " (3, 6): <gurobi.Var order[3,6] (value 1.0)>,\n",
       " (4, 1): <gurobi.Var order[4,1] (value 0.0)>,\n",
       " (4, 2): <gurobi.Var order[4,2] (value 1.0)>,\n",
       " (4, 3): <gurobi.Var order[4,3] (value 1.0)>,\n",
       " (4, 4): <gurobi.Var order[4,4] (value 0.0)>,\n",
       " (4, 5): <gurobi.Var order[4,5] (value 1.0)>,\n",
       " (4, 6): <gurobi.Var order[4,6] (value 1.0)>,\n",
       " (5, 1): <gurobi.Var order[5,1] (value 0.0)>,\n",
       " (5, 2): <gurobi.Var order[5,2] (value 1.0)>,\n",
       " (5, 3): <gurobi.Var order[5,3] (value 0.0)>,\n",
       " (5, 4): <gurobi.Var order[5,4] (value 0.0)>,\n",
       " (5, 5): <gurobi.Var order[5,5] (value 0.0)>,\n",
       " (5, 6): <gurobi.Var order[5,6] (value 0.0)>,\n",
       " (6, 1): <gurobi.Var order[6,1] (value 0.0)>,\n",
       " (6, 2): <gurobi.Var order[6,2] (value 1.0)>,\n",
       " (6, 3): <gurobi.Var order[6,3] (value 0.0)>,\n",
       " (6, 4): <gurobi.Var order[6,4] (value 0.0)>,\n",
       " (6, 5): <gurobi.Var order[6,5] (value 1.0)>,\n",
       " (6, 6): <gurobi.Var order[6,6] (value 0.0)>}"
      ]
     },
     "execution_count": 13,
     "metadata": {},
     "output_type": "execute_result"
    }
   ],
   "source": [
    "order"
   ]
  },
  {
   "cell_type": "code",
   "execution_count": 14,
   "metadata": {},
   "outputs": [
    {
     "data": {
      "text/plain": [
       "{(1, 1): <gurobi.Var color_change[1,1] (value 0.0)>,\n",
       " (1, 2): <gurobi.Var color_change[1,2] (value 1.0)>,\n",
       " (1, 3): <gurobi.Var color_change[1,3] (value 1.0)>,\n",
       " (1, 4): <gurobi.Var color_change[1,4] (value 1.0)>,\n",
       " (1, 5): <gurobi.Var color_change[1,5] (value 1.0)>,\n",
       " (1, 6): <gurobi.Var color_change[1,6] (value 1.0)>,\n",
       " (2, 1): <gurobi.Var color_change[2,1] (value 0.0)>,\n",
       " (2, 2): <gurobi.Var color_change[2,2] (value 0.0)>,\n",
       " (2, 3): <gurobi.Var color_change[2,3] (value 0.0)>,\n",
       " (2, 4): <gurobi.Var color_change[2,4] (value 0.0)>,\n",
       " (2, 5): <gurobi.Var color_change[2,5] (value 0.0)>,\n",
       " (2, 6): <gurobi.Var color_change[2,6] (value 0.0)>,\n",
       " (3, 1): <gurobi.Var color_change[3,1] (value 0.0)>,\n",
       " (3, 2): <gurobi.Var color_change[3,2] (value 1.0)>,\n",
       " (3, 3): <gurobi.Var color_change[3,3] (value 0.0)>,\n",
       " (3, 4): <gurobi.Var color_change[3,4] (value 0.0)>,\n",
       " (3, 5): <gurobi.Var color_change[3,5] (value 1.0)>,\n",
       " (3, 6): <gurobi.Var color_change[3,6] (value 1.0)>,\n",
       " (4, 1): <gurobi.Var color_change[4,1] (value 0.0)>,\n",
       " (4, 2): <gurobi.Var color_change[4,2] (value 1.0)>,\n",
       " (4, 3): <gurobi.Var color_change[4,3] (value 1.0)>,\n",
       " (4, 4): <gurobi.Var color_change[4,4] (value 0.0)>,\n",
       " (4, 5): <gurobi.Var color_change[4,5] (value 1.0)>,\n",
       " (4, 6): <gurobi.Var color_change[4,6] (value 1.0)>,\n",
       " (5, 1): <gurobi.Var color_change[5,1] (value 0.0)>,\n",
       " (5, 2): <gurobi.Var color_change[5,2] (value 1.0)>,\n",
       " (5, 3): <gurobi.Var color_change[5,3] (value 0.0)>,\n",
       " (5, 4): <gurobi.Var color_change[5,4] (value 0.0)>,\n",
       " (5, 5): <gurobi.Var color_change[5,5] (value 0.0)>,\n",
       " (5, 6): <gurobi.Var color_change[5,6] (value 0.0)>,\n",
       " (6, 1): <gurobi.Var color_change[6,1] (value 0.0)>,\n",
       " (6, 2): <gurobi.Var color_change[6,2] (value 1.0)>,\n",
       " (6, 3): <gurobi.Var color_change[6,3] (value 0.0)>,\n",
       " (6, 4): <gurobi.Var color_change[6,4] (value 0.0)>,\n",
       " (6, 5): <gurobi.Var color_change[6,5] (value 1.0)>,\n",
       " (6, 6): <gurobi.Var color_change[6,6] (value 0.0)>}"
      ]
     },
     "execution_count": 14,
     "metadata": {},
     "output_type": "execute_result"
    }
   ],
   "source": [
    "color_change"
   ]
  },
  {
   "cell_type": "code",
   "execution_count": null,
   "metadata": {},
   "outputs": [],
   "source": []
  }
 ],
 "metadata": {
  "kernelspec": {
   "display_name": "Python 3",
   "language": "python",
   "name": "python3"
  },
  "language_info": {
   "codemirror_mode": {
    "name": "ipython",
    "version": 3
   },
   "file_extension": ".py",
   "mimetype": "text/x-python",
   "name": "python",
   "nbconvert_exporter": "python",
   "pygments_lexer": "ipython3",
   "version": "3.11.5"
  }
 },
 "nbformat": 4,
 "nbformat_minor": 2
}
