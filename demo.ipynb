{
 "cells": [
  {
   "cell_type": "code",
   "execution_count": 1,
   "metadata": {},
   "outputs": [],
   "source": [
    "from pyomo_optimizer import Optimizer\n",
    "from heuristics import * \n",
    "import random \n",
    "import numpy as np \n",
    "import pandas as pd\n",
    "from visualization import *\n",
    "import random\n",
    "import colorsys\n",
    "from heuristics import TabuSearchScheduler"
   ]
  },
  {
   "cell_type": "code",
   "execution_count": 2,
   "metadata": {},
   "outputs": [],
   "source": [
    "random.seed(42)\n",
    "np.random.seed(42)"
   ]
  },
  {
   "cell_type": "code",
   "execution_count": 3,
   "metadata": {},
   "outputs": [],
   "source": [
    "def generate_distinct_colors(n):\n",
    "    hues = [i / n for i in range(n)]\n",
    "    random.shuffle(hues)\n",
    "    \n",
    "    colors = []\n",
    "    saturation = 0.7  # Adjust between 0 (gray) and 1 (fully saturated)\n",
    "    value = 0.9       # Adjust between 0 (black) and 1 (full brightness)\n",
    "    \n",
    "    for h in hues:\n",
    "        r, g, b = colorsys.hsv_to_rgb(h, saturation, value)\n",
    "        hex_color = f'#{int(r * 255):02x}{int(g * 255):02x}{int(b * 255):02x}'\n",
    "        colors.append(hex_color)\n",
    "    \n",
    "    return colors"
   ]
  },
  {
   "cell_type": "code",
   "execution_count": 4,
   "metadata": {},
   "outputs": [],
   "source": [
    "def get_dynamic_parameters(num_parts, num_colors):\n",
    "\n",
    "    print(num_parts, num_colors)\n",
    "\n",
    "    max_time_machine_A = ( 8 * 60 * 60)\n",
    "    max_time_machine_B = ( 7 * 60 * 60)\n",
    "\n",
    "    unit_production_time = 80\n",
    "    cleaning_time = 80\n",
    "\n",
    "    machines = [1,2]\n",
    "\n",
    "    max_times = [max_time_machine_A, max_time_machine_B]\n",
    "\n",
    "    demand = {p: int((max_time_machine_A + max_time_machine_B) / (unit_production_time * (num_parts + num_colors))) for p in range(1, num_parts + 1)}\n",
    "\n",
    "    for i in range(1, len(machines) + 1):\n",
    "        demand[num_parts + i] = 0\n",
    "\n",
    "    colors = generate_distinct_colors(num_colors)\n",
    "    parts_colors = {i: colors[(i - 1) % len(colors)] for i in range(1, num_parts + 1)}\n",
    "\n",
    "    alpha = [[abs(1 - (parts_colors[p] == parts_colors[q])) for q in range(1, num_parts + 1)] for p in range(1, num_parts + 1)]\n",
    "\n",
    "    return {\n",
    "        \"num_parts\": num_parts,\n",
    "        \"num_colors\": num_colors,\n",
    "        \"max_times\" : max_times,\n",
    "        \"demand\": demand,\n",
    "        \"parts_colors\": parts_colors,\n",
    "        \"alpha\": alpha,\n",
    "        \"unit_production_time\": unit_production_time,\n",
    "        \"cleaning_time\": cleaning_time,\n",
    "        \"machines\": machines,\n",
    "    }"
   ]
  },
  {
   "cell_type": "markdown",
   "metadata": {},
   "source": [
    "# Run Experiments"
   ]
  },
  {
   "cell_type": "code",
   "execution_count": 5,
   "metadata": {},
   "outputs": [],
   "source": [
    "results = []"
   ]
  },
  {
   "cell_type": "code",
   "execution_count": null,
   "metadata": {},
   "outputs": [
    {
     "name": "stdout",
     "output_type": "stream",
     "text": [
      "10 1\n",
      "10 3\n",
      "10 5\n",
      "10 7\n",
      "10 9\n",
      "20 1\n",
      "20 5\n"
     ]
    }
   ],
   "source": [
    "for num_parts in [10, 20, 30,40, 50, 60,70, 80,90,100,110,120,130,140,150]:  \n",
    "    for num_colors in range(1, num_parts, int(num_parts / 5)):  \n",
    "        try:\n",
    "            problem_parameters = get_dynamic_parameters(num_parts, num_colors)\n",
    "            optimizer = Optimizer(**problem_parameters)\n",
    "            objective_value, optimization_time = optimizer(verbose=False)\n",
    "            results.append([num_parts, num_colors, round(optimization_time, 4), objective_value])\n",
    "            results_df = pd.DataFrame(results, columns=[\"Number of Parts\", \"Number of Colors\", \"Time\", \"Objective Value\"])\n",
    "            results_df.to_csv(\"results.csv\", index=False)\n",
    "        except Exception as e:\n",
    "            print(e)\n",
    "            pass\n",
    "\n",
    "results_df"
   ]
  },
  {
   "cell_type": "markdown",
   "metadata": {},
   "source": [
    "## Visualize Results"
   ]
  },
  {
   "cell_type": "code",
   "execution_count": null,
   "metadata": {},
   "outputs": [],
   "source": [
    "problem_parameters = get_dynamic_parameters(10,4)\n",
    "optimizer = Optimizer(**problem_parameters)\n",
    "objective_value, optimization_time = optimizer(verbose=True)\n",
    "optimizer.visualize()"
   ]
  }
 ],
 "metadata": {
  "kernelspec": {
   "display_name": ".venv",
   "language": "python",
   "name": "python3"
  },
  "language_info": {
   "codemirror_mode": {
    "name": "ipython",
    "version": 3
   },
   "file_extension": ".py",
   "mimetype": "text/x-python",
   "name": "python",
   "nbconvert_exporter": "python",
   "pygments_lexer": "ipython3",
   "version": "3.11.5"
  }
 },
 "nbformat": 4,
 "nbformat_minor": 2
}
